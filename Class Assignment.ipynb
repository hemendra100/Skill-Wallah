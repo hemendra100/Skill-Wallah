{
 "cells": [
  {
   "cell_type": "markdown",
   "id": "57210877-c050-4973-be82-759aa626031f",
   "metadata": {},
   "source": [
    "Vehicle class with an init method having instance varaible as name of vehicle max speed and average of vehicle"
   ]
  },
  {
   "cell_type": "code",
   "execution_count": 5,
   "id": "c0ee72b3-b2cb-401c-b8de-3f9bbd47902f",
   "metadata": {},
   "outputs": [
    {
     "data": {
      "text/plain": [
       "('Dzire', 200, 20)"
      ]
     },
     "execution_count": 5,
     "metadata": {},
     "output_type": "execute_result"
    }
   ],
   "source": [
    "class vehicle():\n",
    "    def __init__(self,name_vehicle,speed_vehicle,average_vehicle):\n",
    "        self.name_vehicle=name_vehicle\n",
    "        self.speed_vehicle = speed_vehicle\n",
    "        self.average_vehicle=average_vehicle\n",
    "    \n",
    "    def return__vehicle__details(self):\n",
    "        return self.name_vehicle, self.speed_vehicle,self.average_vehicle\n",
    "    \n",
    "maruti=vehicle(\"Dzire\",200,20)\n",
    "maruti.return__vehicle__details()\n",
    "        "
   ]
  },
  {
   "cell_type": "markdown",
   "id": "b160a3a9-4b80-4aa0-b7d5-725ba10e5065",
   "metadata": {},
   "source": [
    "Create a child class from the vehicle which will inherit the vehicle class create method named seating capacity \n",
    "takes capacity as an argument and return the name of  vehicle and seating capacity\n"
   ]
  },
  {
   "cell_type": "code",
   "execution_count": 11,
   "id": "a4e6b39d-34d8-43ff-bdb5-37b6e46debf9",
   "metadata": {},
   "outputs": [
    {
     "data": {
      "text/plain": [
       "('Toyata', 6)"
      ]
     },
     "execution_count": 11,
     "metadata": {},
     "output_type": "execute_result"
    }
   ],
   "source": [
    "class type(vehicle):\n",
    "    def seating_capacity(self,capacity):\n",
    "        self.capacity = capacity\n",
    "        return self.name_vehicle, self.capacity\n",
    "\n",
    "toyata = type(\"Toyata\",250,15)\n",
    "toyata.seating_capacity(6)"
   ]
  },
  {
   "cell_type": "markdown",
   "id": "708350ac-3d5d-411e-9397-01334f2b9562",
   "metadata": {},
   "source": [
    "What is multiple inheritance? Write Code to demonstrate Multiple inheritance"
   ]
  },
  {
   "cell_type": "markdown",
   "id": "d51a708e-ed1a-45ba-aabf-dbdc4608ffd3",
   "metadata": {},
   "source": [
    "When a class is derived from more than one base class it is called multiple Inheritance. The derived class inherits all the features of the base case."
   ]
  },
  {
   "cell_type": "code",
   "execution_count": 13,
   "id": "58f799ba-54ae-43ce-b35f-9bfe4f3f6659",
   "metadata": {},
   "outputs": [],
   "source": [
    "class Stats:\n",
    "    def test_class1(self):\n",
    "        return \"Welcome to Stats Class\"\n",
    "\n",
    "class Maths:\n",
    "    def test_class2(self):\n",
    "        return \"Welcome to Maths Class\"\n",
    "    \n",
    "class Class3(Stats, Maths):\n",
    "    pass\n",
    "\n",
    "student = Class3()\n",
    "\n"
   ]
  },
  {
   "cell_type": "code",
   "execution_count": 14,
   "id": "fd3848ec-f4b8-461c-a5e2-f83a5929c082",
   "metadata": {},
   "outputs": [
    {
     "data": {
      "text/plain": [
       "'Welcome to Stats Class'"
      ]
     },
     "execution_count": 14,
     "metadata": {},
     "output_type": "execute_result"
    }
   ],
   "source": [
    "student.test_class1()"
   ]
  },
  {
   "cell_type": "code",
   "execution_count": 15,
   "id": "49eca419-fc49-478a-925e-ebb6e1a8190c",
   "metadata": {},
   "outputs": [
    {
     "data": {
      "text/plain": [
       "'Welcome to Maths Class'"
      ]
     },
     "execution_count": 15,
     "metadata": {},
     "output_type": "execute_result"
    }
   ],
   "source": [
    "student.test_class2()"
   ]
  },
  {
   "cell_type": "markdown",
   "id": "7d9c38e8-b43f-4e3f-81c5-e510dafb5b78",
   "metadata": {},
   "source": [
    "What are getter and setter in python? Create a class and create a getter and setter method in this class"
   ]
  },
  {
   "cell_type": "markdown",
   "id": "d3a4ae00-b88c-4e85-a121-9d41cfefac80",
   "metadata": {},
   "source": [
    "In Python, getters and setters are methods used to access and modify the attributes (variables) of a class. They provide a way to control access to the attributes and apply validation or additional logic when getting or setting their values."
   ]
  },
  {
   "cell_type": "code",
   "execution_count": 4,
   "id": "ea757eff-5993-4404-bde7-a0aeb63dc5c6",
   "metadata": {},
   "outputs": [],
   "source": [
    "class Student:\n",
    "    def __init__(self, name, age):\n",
    "        self._name = name\n",
    "        self._age = age\n",
    "\n",
    "    # Getter method for the 'name' attribute\n",
    "    def get_name(self):\n",
    "        return self._name\n",
    "\n",
    "    # Setter method for the 'name' attribute\n",
    "    def set_name(self, name):\n",
    "        self._name = name\n",
    "\n",
    "    # Getter method for the 'age' attribute\n",
    "    def get_age(self):\n",
    "        return self._age\n",
    "\n",
    "    # Setter method for the 'age' attribute\n",
    "    def set_age(self, age):\n",
    "        if age < 0:\n",
    "            raise ValueError(\"Age cannot be negative.\")\n",
    "        self._age = age"
   ]
  },
  {
   "cell_type": "code",
   "execution_count": 5,
   "id": "dae4826c-8d7a-40af-9ed2-b35f5f2b49ad",
   "metadata": {},
   "outputs": [
    {
     "name": "stdout",
     "output_type": "stream",
     "text": [
      "John\n",
      "25\n",
      "Alice\n",
      "30\n"
     ]
    }
   ],
   "source": [
    "student = Student(\"John\", 25)\n",
    "print(student.get_name())  \n",
    "print(student.get_age())  \n",
    "\n",
    "student.set_name(\"Alice\")\n",
    "student.set_age(30)\n",
    "\n",
    "print(student.get_name())  # Output: Alice\n",
    "print(student.get_age())  # Output: 30"
   ]
  },
  {
   "cell_type": "markdown",
   "id": "114f9236-d64d-42a9-b407-7063f51e2477",
   "metadata": {},
   "source": [
    "What is method overiding? "
   ]
  },
  {
   "cell_type": "markdown",
   "id": "634bd5d2-1f0f-432a-ab6e-40427f11b818",
   "metadata": {},
   "source": [
    "Method overriding in Python is a feature that allows a subclass to provide a different implementation of a method that is already defined in its superclass. "
   ]
  },
  {
   "cell_type": "code",
   "execution_count": 6,
   "id": "296744ac-8f06-4f78-97e5-a29673f21f65",
   "metadata": {},
   "outputs": [],
   "source": [
    "class Animal:\n",
    "    def eating_habbit(self):\n",
    "        print(\"Anything\")\n",
    "\n",
    "class Dog(Animal):\n",
    "    def eating_habbit(self):\n",
    "        print(\"Non-veg\")\n",
    "\n",
    "class Cow(Animal):\n",
    "    def eating_habbit(self):\n",
    "        print(\"Grass\")\n",
    "\n",
    "# Create instances of the classes\n",
    "animal = Animal()\n",
    "dog = Dog()\n",
    "cat = Cat()\n",
    "\n",
    "# Call the make_sound method\n",
    "animal.eatin()  # Output: Generic animal sound\n",
    "dog.make_sound()  # Output: Woof woof!\n",
    "cat.make_sound()  # Output: Meow!"
   ]
  },
  {
   "cell_type": "code",
   "execution_count": null,
   "id": "293d5c67-17a9-4abf-9902-76ec08de3fc6",
   "metadata": {},
   "outputs": [],
   "source": []
  }
 ],
 "metadata": {
  "kernelspec": {
   "display_name": "Python 3 (ipykernel)",
   "language": "python",
   "name": "python3"
  },
  "language_info": {
   "codemirror_mode": {
    "name": "ipython",
    "version": 3
   },
   "file_extension": ".py",
   "mimetype": "text/x-python",
   "name": "python",
   "nbconvert_exporter": "python",
   "pygments_lexer": "ipython3",
   "version": "3.10.8"
  }
 },
 "nbformat": 4,
 "nbformat_minor": 5
}
