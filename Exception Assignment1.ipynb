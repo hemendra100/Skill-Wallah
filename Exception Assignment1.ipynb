{
 "cells": [
  {
   "cell_type": "markdown",
   "id": "a893b47a-424f-4c41-9dd1-b38b7e56fcdc",
   "metadata": {},
   "source": [
    "What is an Exception in python? Write the differen,between Exceptions \n",
    "and syntax errors?"
   ]
  },
  {
   "cell_type": "markdown",
   "id": "cbba7724-0313-4534-b806-1d5deb3ee813",
   "metadata": {},
   "source": [
    "When the proper syntax of the language is not followed then a syntax error is thrown.In comparison, an exception is a condition that interrupts the normal flow of the program.Even if a statement or expression is syntactically correct, it may cause an error when an attempt is made to execute it. Errors detected during execution are called exceptions and are not unconditionally fatal:"
   ]
  },
  {
   "cell_type": "code",
   "execution_count": 9,
   "id": "d04f4ee5-b5c8-406a-8b4f-5f28fbbdc8e0",
   "metadata": {},
   "outputs": [
    {
     "ename": "SyntaxError",
     "evalue": "invalid syntax (417359309.py, line 1)",
     "output_type": "error",
     "traceback": [
      "\u001b[0;36m  Cell \u001b[0;32mIn[9], line 1\u001b[0;36m\u001b[0m\n\u001b[0;31m    What happens when an exception is not handled? Explain with example\u001b[0m\n\u001b[0m         ^\u001b[0m\n\u001b[0;31mSyntaxError\u001b[0m\u001b[0;31m:\u001b[0m invalid syntax\n"
     ]
    }
   ],
   "source": [
    "What happens when an exception is not handled? Explain with example\n",
    "\n",
    "it must either handle the exception immediately otherwise it terminates and quits."
   ]
  },
  {
   "cell_type": "markdown",
   "id": "9ec8374d-69a6-4bd6-b0f2-d83a7970aebf",
   "metadata": {},
   "source": [
    "string = \"Hemendra\"  \n",
    "  \n",
    "for s in string:  \n",
    "    if (s != e):  \n",
    "        print( s )  "
   ]
  },
  {
   "cell_type": "markdown",
   "id": "62865616-1495-4136-883d-b18aaaa0e8be",
   "metadata": {},
   "source": [
    "Which Python statements  are used to catch and   handle exceptions? Explain with an example\n",
    "\n",
    "\n",
    "Try and except statements are used to catch and handle exceptions in Python. Statements that can raise exceptions are kept inside the try clause and the statements that handle the exception are written inside except clause.\n"
   ]
  },
  {
   "cell_type": "code",
   "execution_count": 10,
   "id": "1ffa4482-b03e-435a-878a-99c6453355fd",
   "metadata": {},
   "outputs": [
    {
     "name": "stdout",
     "output_type": "stream",
     "text": [
      "Second element = 2\n",
      "An error occurred\n"
     ]
    }
   ],
   "source": [
    "# Python program to handle simple runtime error\n",
    " \n",
    "a = [1, 2, 3]\n",
    "try:\n",
    "    print (\"Second element = %d\" %(a[1]))\n",
    " \n",
    "    # Throws error since there are only 3 elements in array\n",
    "    print (\"Fourth element = %d\" %(a[3]))\n",
    " \n",
    "except:\n",
    "    print (\"An error occurred\")"
   ]
  },
  {
   "cell_type": "markdown",
   "id": "18c80a99-c9e0-456d-a253-c55f35c5480c",
   "metadata": {},
   "source": [
    "Explain with example \n",
    "try and else\n",
    "finally\n",
    "raise\n",
    "\n",
    "\n"
   ]
  },
  {
   "cell_type": "code",
   "execution_count": null,
   "id": "5a09e124-3961-443b-a4d4-6ae0d0bea588",
   "metadata": {},
   "outputs": [],
   "source": [
    "try:  \n",
    "    # Code block  \n",
    "    # These statements are those which can probably have some error  \n",
    "  \n",
    "except:  \n",
    "    # This block is optional.  \n",
    "    # If the try block encounters an exception, this block will handle it.  \n",
    "  \n",
    "else:  \n",
    "    # If there is no exception, this code block will be executed by the Python interpreter  \n",
    "  \n",
    "finally:  \n",
    "    # Python interpreter will always execute this code.  \n",
    "\n",
    "raise:\n",
    "    #kind of error to raise, and the text to print to the user."
   ]
  },
  {
   "cell_type": "code",
   "execution_count": 1,
   "id": "ae17470d-af81-4ee3-ad12-e7f127863186",
   "metadata": {},
   "outputs": [
    {
     "name": "stdout",
     "output_type": "stream",
     "text": [
      "Something went wrong when opening the file\n"
     ]
    }
   ],
   "source": [
    "try:\n",
    "  f = open(\"demofil.txt\")\n",
    "  try:\n",
    "    f.write(\"Lorum Ipsum\")\n",
    "  except:\n",
    "    print(\"Something went wrong when writing to the file\")\n",
    "  finally:\n",
    "    f.close()\n",
    "except:\n",
    "  print(\"Something went wrong when opening the file\")"
   ]
  },
  {
   "cell_type": "markdown",
   "id": "0150e54b-f159-4620-ac6c-e04edebc4f7d",
   "metadata": {},
   "source": [
    "What are Custom Exceptions in python? When do we need Custom Exceeptions? Explain with\n",
    "an example"
   ]
  },
  {
   "cell_type": "markdown",
   "id": "85cd1be4-eac2-4fff-a680-34a4d42c939c",
   "metadata": {},
   "source": [
    "In Python, we can define custom exceptions by creating a new class that is derived from the built-in Exception class.Built-in exceptions offer information about Python-related problems, and custom exceptions will add information about project-related problems. That way, you can design your code (and traceback, if an exception is raised) in a way that combines Python code with the language of the project"
   ]
  },
  {
   "cell_type": "code",
   "execution_count": 1,
   "id": "6f690d38-2e83-4da8-b8b3-ad89f38eec36",
   "metadata": {},
   "outputs": [
    {
     "name": "stdin",
     "output_type": "stream",
     "text": [
      "age -45\n"
     ]
    }
   ],
   "source": [
    "age = int(input(\"age\"))"
   ]
  },
  {
   "cell_type": "code",
   "execution_count": 9,
   "id": "53fcf556-e57f-41b8-992a-16fde8495821",
   "metadata": {},
   "outputs": [
    {
     "data": {
      "text/plain": [
       "int"
      ]
     },
     "execution_count": 9,
     "metadata": {},
     "output_type": "execute_result"
    }
   ],
   "source": [
    "type(age)"
   ]
  },
  {
   "cell_type": "markdown",
   "id": "bdebee32-e3bc-473c-bbbb-7e5c0f9404b2",
   "metadata": {},
   "source": [
    "Create a custom exception in python\n",
    "Use this class to handle exception"
   ]
  },
  {
   "cell_type": "code",
   "execution_count": 14,
   "id": "d408d676-15bd-4546-8841-8501a7884c7c",
   "metadata": {},
   "outputs": [
    {
     "name": "stdin",
     "output_type": "stream",
     "text": [
      "Enter age:  -12\n"
     ]
    },
    {
     "name": "stdout",
     "output_type": "stream",
     "text": [
      "Age can't be negative, check again\n"
     ]
    }
   ],
   "source": [
    "class ValidAge(Exception):\n",
    "    def __init__(self, msg):\n",
    "        self.msg = msg\n",
    "\n",
    "def check_age(age):\n",
    "    if age < 0:\n",
    "        raise ValidAge(\"Age can't be negative, check again\")\n",
    "    elif age < 18:\n",
    "        raise ValidAge(\"Not eligible for voting (underage)\")\n",
    "    else:\n",
    "        print(\"Eligible to vote:\", age)\n",
    "\n",
    "try:\n",
    "    age = int(input(\"Enter age: \"))\n",
    "    check_age(age)\n",
    "except ValidAge as e:\n",
    "    print(e)"
   ]
  }
 ],
 "metadata": {
  "kernelspec": {
   "display_name": "Python 3 (ipykernel)",
   "language": "python",
   "name": "python3"
  },
  "language_info": {
   "codemirror_mode": {
    "name": "ipython",
    "version": 3
   },
   "file_extension": ".py",
   "mimetype": "text/x-python",
   "name": "python",
   "nbconvert_exporter": "python",
   "pygments_lexer": "ipython3",
   "version": "3.10.8"
  }
 },
 "nbformat": 4,
 "nbformat_minor": 5
}
