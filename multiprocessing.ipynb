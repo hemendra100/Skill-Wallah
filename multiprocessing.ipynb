{
 "cells": [
  {
   "cell_type": "markdown",
   "id": "61a04807-992d-4ab4-a301-58d3e073a107",
   "metadata": {},
   "source": [
    "What is multiprocessing in python and why is it useful"
   ]
  },
  {
   "cell_type": "markdown",
   "id": "5b27d053-6f21-4698-ba3a-e1e2b6925c3e",
   "metadata": {},
   "source": [
    "Multiprocessing in Python is a built-in package that allows the system to run multiple processes simultaneously. It will enable the breaking of applications into smaller threads that can run independently. The operating system can then allocate all these threads or processes to the processor to run them parallelly, thus improving the overall performance and efficiency."
   ]
  },
  {
   "cell_type": "markdown",
   "id": "fc098286-71d9-45b1-b483-21b648ea2f32",
   "metadata": {},
   "source": [
    " What are the differences between multiprocessing and multithreading?"
   ]
  },
  {
   "cell_type": "markdown",
   "id": "53e98cd1-70d8-4973-ae8a-2438d66242f2",
   "metadata": {},
   "source": [
    "multithreading refers to the ability of a processor to execute multiple threads concurrently, where each thread runs a process. Whereas multiprocessing refers to the ability of a system to run multiple processors in parallel, where each processor can run one or more threads."
   ]
  },
  {
   "cell_type": "code",
   "execution_count": null,
   "id": "a74b4d30-4d63-4b25-b631-2ff833e1a24e",
   "metadata": {},
   "outputs": [],
   "source": []
  },
  {
   "cell_type": "markdown",
   "id": "4a9c01ef-946d-473c-bd84-9d0b76db3058",
   "metadata": {},
   "source": [
    " Write a python code to create a process using the multiprocessing module"
   ]
  },
  {
   "cell_type": "code",
   "execution_count": null,
   "id": "14108681-ebc3-4a5c-bfd4-7ccba9f97232",
   "metadata": {},
   "outputs": [],
   "source": [
    "import multiprocessing"
   ]
  },
  {
   "cell_type": "code",
   "execution_count": null,
   "id": "112863e5-29cc-4d64-b94e-b21857946309",
   "metadata": {},
   "outputs": [],
   "source": [
    "\n",
    "def cube(n):\n",
    "    return n**3\n",
    "\n",
    "if __name__==\"__main__\":\n",
    "    with Multiprocessing.Pool(processes=4) as pool:"
   ]
  },
  {
   "cell_type": "code",
   "execution_count": null,
   "id": "fc7e2c5a-b131-4bf0-b055-80d816de97fd",
   "metadata": {},
   "outputs": [],
   "source": []
  }
 ],
 "metadata": {
  "kernelspec": {
   "display_name": "Python 3 (ipykernel)",
   "language": "python",
   "name": "python3"
  },
  "language_info": {
   "codemirror_mode": {
    "name": "ipython",
    "version": 3
   },
   "file_extension": ".py",
   "mimetype": "text/x-python",
   "name": "python",
   "nbconvert_exporter": "python",
   "pygments_lexer": "ipython3",
   "version": "3.10.8"
  }
 },
 "nbformat": 4,
 "nbformat_minor": 5
}
