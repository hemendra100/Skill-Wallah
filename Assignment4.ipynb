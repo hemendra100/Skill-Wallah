{
 "cells": [
  {
   "cell_type": "code",
   "execution_count": 5,
   "id": "dd03c40d-4d96-4900-871c-8208b52c5699",
   "metadata": {},
   "outputs": [
    {
     "name": "stdout",
     "output_type": "stream",
     "text": [
      "[('Virat', 24936), ('Kallis', 25534), ('Ponting', 27483), ('Sachin', 34357)]\n"
     ]
    }
   ],
   "source": [
    "#Sort the given list of tuples based on integer Value\n",
    "list=[('Sachin',34357),('Ponting',27483),('Kallis',25534),('Virat',24936)]\n",
    "list.sort(key=lambda x:x[1])\n",
    "print(list)"
   ]
  },
  {
   "cell_type": "code",
   "execution_count": null,
   "id": "125a25de-ad98-49e5-b829-8ca0a0ad6f0f",
   "metadata": {},
   "outputs": [],
   "source": [
    "# Finding Square of all numbers in the given list"
   ]
  },
  {
   "cell_type": "code",
   "execution_count": 4,
   "id": "a9970196-b2c3-47ca-abc4-b53f81603429",
   "metadata": {},
   "outputs": [
    {
     "data": {
      "text/plain": [
       "[1, 4, 9, 16, 25, 36, 49, 64, 81, 100]"
      ]
     },
     "execution_count": 4,
     "metadata": {},
     "output_type": "execute_result"
    }
   ],
   "source": [
    "l = [1,2,3,4,5,6,7,8,9,10]\n",
    "list(map(lambda x:x**2, l))"
   ]
  },
  {
   "cell_type": "code",
   "execution_count": 1,
   "id": "2dffa4cb-0e6e-4b0b-9f23-2328e8f73e09",
   "metadata": {},
   "outputs": [
    {
     "name": "stdout",
     "output_type": "stream",
     "text": [
      "[1, 4, 9, 16, 25]\n"
     ]
    }
   ],
   "source": [
    "l = [1, 2, 3, 4, 5]\n",
    "squared_list = list(map(lambda x: x**2, l))\n",
    "print(squared_list)"
   ]
  },
  {
   "cell_type": "code",
   "execution_count": null,
   "id": "c8f204d8-4c8e-48de-a820-fabb9b937d90",
   "metadata": {},
   "outputs": [],
   "source": [
    "# Convert list of integer into tuple of strings."
   ]
  },
  {
   "cell_type": "code",
   "execution_count": 3,
   "id": "cc23df26-c71b-4409-ad5e-ab61c60484f8",
   "metadata": {},
   "outputs": [
    {
     "data": {
      "text/plain": [
       "('1', '2', '3', '4', '5', '6', '7', '8', '9', '10')"
      ]
     },
     "execution_count": 3,
     "metadata": {},
     "output_type": "execute_result"
    }
   ],
   "source": [
    "l=[1,2,3,4,5,6,7,8,9,10]\n",
    "t=tuple(map(lambda x:str(x),l))\n",
    "t"
   ]
  },
  {
   "cell_type": "code",
   "execution_count": 5,
   "id": "f0e9ea9d-c02b-460d-9633-5167c4892d7d",
   "metadata": {},
   "outputs": [
    {
     "name": "stdout",
     "output_type": "stream",
     "text": [
      "15511210043330985984000000\n"
     ]
    }
   ],
   "source": [
    "# Product of list containing  number from 1 to 25\n",
    "from functools import reduce\n",
    "def create_list(r1, r2):\n",
    "    return list(map(lambda x: x, range(r1, r2+1)))\n",
    "l=create_list(1,25)\n",
    "\n",
    "\n",
    "result = reduce(lambda x, y: x * y, l)\n",
    "print(result)\n"
   ]
  },
  {
   "cell_type": "code",
   "execution_count": 7,
   "id": "3dbafd28-a279-4fca-a227-a819ca205973",
   "metadata": {},
   "outputs": [
    {
     "data": {
      "text/plain": [
       "[6, 60, 90, 120]"
      ]
     },
     "execution_count": 7,
     "metadata": {},
     "output_type": "execute_result"
    }
   ],
   "source": [
    "# Filter the numbers in agiven list that are divisble by 2 & 3 using filter function\n",
    "\n",
    "l1=[2,3,6,9,27,60,90,120,55,46]\n",
    "list(filter(lambda x: x%2 == 0 and x%3 == 0,l1))"
   ]
  },
  {
   "cell_type": "code",
   "execution_count": 24,
   "id": "82adff28-e0dd-4786-bb18-1ef6c9c3a6fd",
   "metadata": {},
   "outputs": [
    {
     "data": {
      "text/plain": [
       "['php', 'aba', 'radar', 'level']"
      ]
     },
     "execution_count": 24,
     "metadata": {},
     "output_type": "execute_result"
    }
   ],
   "source": [
    "# program to find palindromes in the given list\n",
    "l1= ['python','php','aba','radar','level']\n",
    "list(filter(lambda x: x==x[::-1],l1))\n",
    "\n",
    "   "
   ]
  },
  {
   "cell_type": "code",
   "execution_count": null,
   "id": "bc7c6df1-f8da-46b2-b262-738015ed6446",
   "metadata": {},
   "outputs": [],
   "source": []
  }
 ],
 "metadata": {
  "kernelspec": {
   "display_name": "Python 3 (ipykernel)",
   "language": "python",
   "name": "python3"
  },
  "language_info": {
   "codemirror_mode": {
    "name": "ipython",
    "version": 3
   },
   "file_extension": ".py",
   "mimetype": "text/x-python",
   "name": "python",
   "nbconvert_exporter": "python",
   "pygments_lexer": "ipython3",
   "version": "3.10.8"
  }
 },
 "nbformat": 4,
 "nbformat_minor": 5
}
