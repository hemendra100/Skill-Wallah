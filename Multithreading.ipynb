{
 "cells": [
  {
   "cell_type": "markdown",
   "id": "98af96dc-4104-4c9b-97ed-854354e4cd0a",
   "metadata": {},
   "source": [
    "What is multithreading in python? Why is it used. Name the module that used to handle threads in python"
   ]
  },
  {
   "cell_type": "markdown",
   "id": "6a45d00b-38d3-4f65-a638-7a1699c33301",
   "metadata": {},
   "source": [
    "\n",
    "Python multithreading enables efficient utilization of the resources as the threads share the data space and memory. Multithreading in Python allows the concurrent and parallel occurrence of various tasks. It causes a reduction in time consumption or response time, thereby increasing the performance.The threading module is a high-level implementation of multithreading used to deploy an application in Python. To use multithreading, we need to import the threading module in Python Program."
   ]
  },
  {
   "cell_type": "markdown",
   "id": "eb475eef-0b13-4d3f-9650-f6e58428539d",
   "metadata": {},
   "source": [
    "Why threading module is used ?"
   ]
  },
  {
   "cell_type": "markdown",
   "id": "2b836274-1bd3-4de9-a29f-a45b75340ef6",
   "metadata": {},
   "source": [
    " threading module is used for creating, controlling and managing threads in python."
   ]
  },
  {
   "cell_type": "markdown",
   "id": "6fa3a9cd-ae6f-48de-9599-0e7b799e6227",
   "metadata": {},
   "source": [
    "threading.activeCount() − Returns the number of thread objects that are active.\n",
    "threading.currentThread() − Returns the number of thread objects in the caller's thread control.\n",
    "threading.enumerate() − Returns a list of all thread objects that are currently active"
   ]
  },
  {
   "cell_type": "markdown",
   "id": "63901bf9-e1b7-49da-855a-14f462da2261",
   "metadata": {},
   "source": [
    "run()  − The run() method is the entry point for a thread.\n",
    "\n",
    "start()  − The start() method starts a thread by calling the run method.\n",
    "\n",
    "join([time])  − The join() waits for threads to terminate.\n",
    "\n",
    "isAlive()  − The isAlive() method checks whether a thread is still executing.\n",
    "\n"
   ]
  },
  {
   "cell_type": "markdown",
   "id": "a2760735-c2f1-4d5f-9b2c-3aa826688e7c",
   "metadata": {},
   "source": [
    "Write a program to create two threads. Thread one must print list of sqaure and thread two to print list of cubes"
   ]
  },
  {
   "cell_type": "code",
   "execution_count": 3,
   "id": "1729383a-9b71-4341-a7e7-3ba79cff64af",
   "metadata": {},
   "outputs": [],
   "source": [
    "import threading\n",
    "def square(list):\n",
    "    for i in list:\n",
    "        print ( i*i)\n",
    "\n",
    "def cube(list):\n",
    "    for i in list:\n",
    "        print ( i*i*i) \n"
   ]
  },
  {
   "cell_type": "code",
   "execution_count": 16,
   "id": "c849c751-7a5f-4231-afd0-c82d9f628d54",
   "metadata": {},
   "outputs": [
    {
     "name": "stdout",
     "output_type": "stream",
     "text": [
      "1\n",
      "4\n",
      "9\n",
      "16\n",
      "1\n",
      "8\n",
      "27\n",
      "64\n"
     ]
    }
   ],
   "source": [
    "\n",
    "list=[1,2,3,4]\n",
    "square(list)\n",
    "cube(list)"
   ]
  },
  {
   "cell_type": "code",
   "execution_count": 27,
   "id": "0b0b810b-2309-4f17-96e3-cf87f44ce3ca",
   "metadata": {},
   "outputs": [],
   "source": [
    "thr1 = threading.Thread(target = square, args=(list,)) \n",
    "thr2 = threading.Thread(target = cube, args=(list,)) "
   ]
  },
  {
   "cell_type": "code",
   "execution_count": 28,
   "id": "6437c3a4-af15-4074-ab14-38ad39a6b58e",
   "metadata": {},
   "outputs": [
    {
     "data": {
      "text/plain": [
       "<Thread(Thread-23 (square), initial)>"
      ]
     },
     "execution_count": 28,
     "metadata": {},
     "output_type": "execute_result"
    }
   ],
   "source": [
    "thr1"
   ]
  },
  {
   "cell_type": "code",
   "execution_count": 29,
   "id": "2e75f4b8-56f5-474a-aff7-b2a180ac403f",
   "metadata": {},
   "outputs": [
    {
     "data": {
      "text/plain": [
       "<Thread(Thread-24 (cube), initial)>"
      ]
     },
     "execution_count": 29,
     "metadata": {},
     "output_type": "execute_result"
    }
   ],
   "source": [
    "thr2"
   ]
  },
  {
   "cell_type": "code",
   "execution_count": 30,
   "id": "26a7b4fc-67bf-453a-b935-b4a3e9ddb513",
   "metadata": {},
   "outputs": [
    {
     "name": "stdout",
     "output_type": "stream",
     "text": [
      "1\n",
      "4\n",
      "9\n",
      "16\n",
      "1\n",
      "8\n",
      "27\n",
      "64\n"
     ]
    }
   ],
   "source": [
    "thr1.start()\n",
    "thr2.start()"
   ]
  },
  {
   "cell_type": "code",
   "execution_count": 31,
   "id": "8b7caaa5-b255-4a3a-b6c2-9da1df669e1e",
   "metadata": {},
   "outputs": [],
   "source": [
    "thr1.join()\n",
    "thr2.join()"
   ]
  },
  {
   "cell_type": "code",
   "execution_count": 14,
   "id": "931f1ac4-eca9-48a4-8254-a3a939574ae2",
   "metadata": {},
   "outputs": [
    {
     "data": {
      "text/plain": [
       "[<Thread(Thread-5 (square), stopped 140516861654592)>,\n",
       " <Thread(Thread-6 (square), stopped 140516853261888)>,\n",
       " <Thread(Thread-7 (square), stopped 140516844869184)>,\n",
       " <Thread(Thread-8 (square), stopped 140516431754816)>]"
      ]
     },
     "execution_count": 14,
     "metadata": {},
     "output_type": "execute_result"
    }
   ],
   "source": [
    "thr1"
   ]
  },
  {
   "cell_type": "markdown",
   "id": "9d2c7a03-29d9-4d7c-bc6b-bc135bcc34e0",
   "metadata": {},
   "source": [
    "State advantage and disadvantage of multithreading?"
   ]
  },
  {
   "cell_type": "markdown",
   "id": "8a90929a-375b-4bc8-a59f-16cccdf40ceb",
   "metadata": {},
   "source": [
    "\n",
    "The overall throughput of the server is much greater. Minimized system resource usage. Threads impose minimal impact on system resources. Threads require less overhead to create, maintain, and manage than a traditional process.\n",
    "\n",
    "It needs more careful synchronization. It can consume a large space of stocks of blocked threads. It needs support for thread or process. If a parent process has several threads for proper process functioning, the child processes should also be multithreaded because they may be required."
   ]
  },
  {
   "cell_type": "markdown",
   "id": "a027b6aa-187d-488c-9a41-aefcac9a7acb",
   "metadata": {},
   "source": [
    "Explain deadlock and race conditions?"
   ]
  },
  {
   "cell_type": "code",
   "execution_count": null,
   "id": "c834068a-d668-4ff6-a99a-2bf742292c23",
   "metadata": {},
   "outputs": [],
   "source": []
  }
 ],
 "metadata": {
  "kernelspec": {
   "display_name": "Python 3 (ipykernel)",
   "language": "python",
   "name": "python3"
  },
  "language_info": {
   "codemirror_mode": {
    "name": "ipython",
    "version": 3
   },
   "file_extension": ".py",
   "mimetype": "text/x-python",
   "name": "python",
   "nbconvert_exporter": "python",
   "pygments_lexer": "ipython3",
   "version": "3.10.8"
  }
 },
 "nbformat": 4,
 "nbformat_minor": 5
}
