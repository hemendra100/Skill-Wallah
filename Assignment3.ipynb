{
 "cells": [
  {
   "cell_type": "markdown",
   "id": "bcb93da7-67c5-4c8a-9925-1a30b97a9084",
   "metadata": {},
   "source": [
    "Which keyword is used to create function?Create a function to return a list of odd numbers in the range of 1 to 25"
   ]
  },
  {
   "cell_type": "markdown",
   "id": "216e8504-a8bc-4924-a476-d0ac1d0c079f",
   "metadata": {},
   "source": [
    "a function is defined using the def keyword:"
   ]
  },
  {
   "cell_type": "code",
   "execution_count": 2,
   "id": "084c70ea-c407-4a08-a1f8-141dfd9d7d00",
   "metadata": {},
   "outputs": [
    {
     "name": "stdout",
     "output_type": "stream",
     "text": [
      "1\n",
      "3\n",
      "5\n",
      "7\n",
      "9\n",
      "11\n",
      "13\n",
      "15\n",
      "17\n",
      "19\n",
      "21\n",
      "23\n"
     ]
    }
   ],
   "source": [
    "def odd():\n",
    "    for i in range(1,25,2):\n",
    "        print(i)\n",
    "\n",
    "odd()\n",
    "    "
   ]
  },
  {
   "cell_type": "markdown",
   "id": "ce78f226-113a-4f59-9563-fe6ea797cb84",
   "metadata": {},
   "source": [
    "Q2. Why *args and **kwargs is used in some functions? Create a function each for *args and **kwargs to demonstrate their use."
   ]
  },
  {
   "cell_type": "markdown",
   "id": "98753bf5-0c33-43c4-9924-792b345084c3",
   "metadata": {},
   "source": [
    "Information can be passed into functions as arguments.If we do not know how many arguments that will be passed into our function, add a * before the parameter name in the function definition.\n",
    "\n",
    "If we do not know how many keyword arguments that will be passed into your function, add two asterisk: ** before the parameter name in the function definition.\n",
    "\n",
    "This way the function will receive a dictionary of arguments, and can access the items accordingly"
   ]
  },
  {
   "cell_type": "code",
   "execution_count": 3,
   "id": "65bab715-9b01-4f39-9333-359d6a2e6a59",
   "metadata": {},
   "outputs": [
    {
     "name": "stdout",
     "output_type": "stream",
     "text": [
      "The youngest child is Sita\n"
     ]
    }
   ],
   "source": [
    "def youngchild(*kids):\n",
    "  print(\"The youngest child is \" + kids[2])\n",
    "\n",
    "youngchild(\"Ram\", \"Shyam\", \"Sita\")\n"
   ]
  },
  {
   "cell_type": "code",
   "execution_count": 4,
   "id": "48bd3042-a6f6-415a-9837-302936ef0b24",
   "metadata": {},
   "outputs": [
    {
     "name": "stdout",
     "output_type": "stream",
     "text": [
      "His last name is Gupta\n"
     ]
    }
   ],
   "source": [
    "def my_function(**kid):\n",
    "  print(\"His last name is \" + kid[\"lname\"])\n",
    "\n",
    "my_function(fname = \"Rajesh\", lname = \"Gupta\")\n"
   ]
  },
  {
   "cell_type": "markdown",
   "id": "5705f760-1d7b-4071-b835-c5952844bfb7",
   "metadata": {},
   "source": [
    "Q3. What is an iterator in python? Name the method used to initialise the iterator object and the method used for iteration. Use these methods to print the first five elements of the given list [2, 4, 6, 8, 10, 12, 14, 16, 18, 20]."
   ]
  },
  {
   "cell_type": "markdown",
   "id": "eb13d096-61fd-469a-a50a-e37249cc94fe",
   "metadata": {},
   "source": [
    " an iterator is an object that can be iterated upon.We can say that Iterators are objects that allow you to traverse through all the elements of a collection and return one element at a time. It has the __iter__()  and __next__()  methods."
   ]
  },
  {
   "cell_type": "code",
   "execution_count": 6,
   "id": "fbe18156-d321-4a82-aedb-1f9b4ec29a10",
   "metadata": {},
   "outputs": [
    {
     "name": "stdout",
     "output_type": "stream",
     "text": [
      "2\n",
      "4\n",
      "6\n",
      "8\n",
      "10\n"
     ]
    }
   ],
   "source": [
    "l1=[2, 4, 6, 8, 10, 12, 14, 16, 18, 20]\n",
    "iter1 = l1.__iter__()\n",
    "print(iter1.__next__())\n",
    "print(iter1.__next__())\n",
    "print(iter1.__next__())\n",
    "print(iter1.__next__())\n",
    "print(iter1.__next__())"
   ]
  },
  {
   "cell_type": "markdown",
   "id": "a3fcd2aa-80dd-4125-8af4-7cc8ff7f3f1d",
   "metadata": {},
   "source": [
    "Q4. What is a generator function in python? Why yield keyword is used? Give an example of a generator function."
   ]
  },
  {
   "cell_type": "markdown",
   "id": "f35045e5-6768-45f1-bcae-4ec3c985fa48",
   "metadata": {},
   "source": [
    "A generator function is defined just like a normal function, but whenever it needs to generate a value, it does so with the yield keyword rather than return. If the body of a def contains yield, the function automatically becomes a generator function. \n",
    "\n"
   ]
  },
  {
   "cell_type": "code",
   "execution_count": 7,
   "id": "baebb84a-74cf-4eff-a45c-ebbb40823cff",
   "metadata": {},
   "outputs": [
    {
     "name": "stdout",
     "output_type": "stream",
     "text": [
      "1\n",
      "2\n",
      "3\n"
     ]
    }
   ],
   "source": [
    "def simpleGeneratorFun():\n",
    "    yield 1\n",
    "    yield 2\n",
    "    yield 3\n",
    " \n",
    "for value in simpleGeneratorFun():\n",
    "    print(value)"
   ]
  },
  {
   "cell_type": "markdown",
   "id": "cc0b842e-bf53-4613-b99d-6de3ca422350",
   "metadata": {},
   "source": [
    "Q5. Create a generator function for prime numbers less than 1000. Use the next() method to print the first 20 prime numbers."
   ]
  },
  {
   "cell_type": "code",
   "execution_count": 29,
   "id": "730f7941-fc05-4877-a661-f135743a6195",
   "metadata": {},
   "outputs": [
    {
     "name": "stdout",
     "output_type": "stream",
     "text": [
      "2\n",
      "3\n",
      "5\n",
      "7\n",
      "11\n",
      "13\n",
      "17\n",
      "19\n",
      "23\n",
      "29\n",
      "31\n",
      "37\n",
      "41\n",
      "43\n",
      "47\n",
      "53\n",
      "59\n",
      "61\n",
      "67\n",
      "71\n"
     ]
    }
   ],
   "source": [
    "def prime():\n",
    "    for i in range(1,1000):\n",
    "        c=1\n",
    "        for j in range(1,i):\n",
    "               if i%j==0:\n",
    "                    c += 1\n",
    "        if c==2:\n",
    "            yield i\n",
    "        \n",
    "prime_gen = prime()\n",
    "\n",
    "# Print the first 20 prime numbers\n",
    "for _ in range(20):\n",
    "    prime1 = next(prime_gen)\n",
    "    print(prime1)\n",
    "                \n",
    "        "
   ]
  },
  {
   "cell_type": "markdown",
   "id": "40744297-99f6-4f33-a8f6-b413072cdb1b",
   "metadata": {},
   "source": [
    "Q6. Write a python program to print the first 10 Fibonacci numbers using a while loop.\n"
   ]
  },
  {
   "cell_type": "code",
   "execution_count": 35,
   "id": "fed235a0-1774-4a51-accb-b9458402a768",
   "metadata": {},
   "outputs": [
    {
     "name": "stdout",
     "output_type": "stream",
     "text": [
      "1\n",
      "1\n",
      "2\n",
      "3\n",
      "5\n",
      "8\n",
      "13\n",
      "21\n",
      "34\n",
      "55\n",
      "89\n"
     ]
    }
   ],
   "source": [
    "c=0\n",
    "a=1\n",
    "b=0\n",
    "while c<11:\n",
    "  \n",
    "    a,b= b,a\n",
    "    a +=b\n",
    "    print (b)\n",
    "    c+=1\n",
    "    "
   ]
  },
  {
   "cell_type": "code",
   "execution_count": 57,
   "id": "51627ea5-b399-4b3b-ae1d-ad617f59f7e3",
   "metadata": {},
   "outputs": [
    {
     "name": "stdout",
     "output_type": "stream",
     "text": [
      "0\n",
      "1\n",
      "1\n",
      "2\n",
      "3\n",
      "5\n",
      "8\n",
      "13\n",
      "21\n",
      "34\n"
     ]
    }
   ],
   "source": [
    "def fib(n):\n",
    "    a,b=0,1\n",
    "    for i in range (n):\n",
    "        yield a\n",
    "        a,b = b,a+b\n",
    "\n",
    "for i in fib(10):\n",
    "    print(i)\n",
    "    \n",
    "            \n",
    "    \n",
    "    \n",
    "    \n"
   ]
  },
  {
   "cell_type": "markdown",
   "id": "bfc2c3b4-2a04-4145-aece-e78bd73b5540",
   "metadata": {},
   "source": [
    "Q7. Write a List Comprehension to iterate through the given string: ‘pwskills’.\n",
    "\n",
    "Expected output: ['p', 'w', 's', 'k', 'i', 'l', 'l', 's']"
   ]
  },
  {
   "cell_type": "code",
   "execution_count": 29,
   "id": "e0a6443b-d8d6-46f5-a90b-09f083cba10e",
   "metadata": {},
   "outputs": [
    {
     "name": "stdout",
     "output_type": "stream",
     "text": [
      "['p', 'w', 's', 'k', 'i', 'l', 'l', 's']\n"
     ]
    }
   ],
   "source": [
    "list1= \"pwskills\"\n",
    "mylist =[]\n",
    "myit = iter(list1)\n",
    "\n",
    "while True:\n",
    "    try:\n",
    "        mylist.append(next(myit))\n",
    "    except StopIteration:\n",
    "        break\n",
    "           \n",
    "        \n",
    "print(mylist)\n",
    "   \n",
    "\n"
   ]
  },
  {
   "cell_type": "markdown",
   "id": "e367c570-78aa-4113-a947-95bb44f4d8f3",
   "metadata": {},
   "source": [
    "Write a python program to check whether a given number is Palindrome or not using a while loop."
   ]
  },
  {
   "cell_type": "code",
   "execution_count": 40,
   "id": "769b4596-8963-443f-b4b6-1e74d08511aa",
   "metadata": {},
   "outputs": [
    {
     "name": "stdin",
     "output_type": "stream",
     "text": [
      "Any Number 1234\n"
     ]
    },
    {
     "name": "stdout",
     "output_type": "stream",
     "text": [
      "['1', '2', '3', '4']\n"
     ]
    },
    {
     "ename": "TypeError",
     "evalue": "'int' object is not iterable",
     "output_type": "error",
     "traceback": [
      "\u001b[0;31m---------------------------------------------------------------------------\u001b[0m",
      "\u001b[0;31mTypeError\u001b[0m                                 Traceback (most recent call last)",
      "Cell \u001b[0;32mIn[40], line 16\u001b[0m\n\u001b[1;32m     13\u001b[0m \u001b[38;5;28mprint\u001b[39m(mylist)\n\u001b[1;32m     14\u001b[0m \u001b[38;5;28mlen\u001b[39m(mylist)\n\u001b[0;32m---> 16\u001b[0m \u001b[38;5;28;01mfor\u001b[39;00m i \u001b[38;5;129;01min\u001b[39;00m \u001b[38;5;28mlen\u001b[39m(mylist):\n\u001b[1;32m     17\u001b[0m     mylist1\u001b[38;5;241m.\u001b[39mappend(mylist[i])\n\u001b[1;32m     19\u001b[0m \u001b[38;5;28mprint\u001b[39m(mylist1)\n",
      "\u001b[0;31mTypeError\u001b[0m: 'int' object is not iterable"
     ]
    }
   ],
   "source": [
    "num=input(\"Any Number\")\n",
    "numit=iter(num)\n",
    "mylist=[]\n",
    "mylist1=[]\n",
    "\n",
    "while True:\n",
    "    try:\n",
    "        mylist.append(next(numit))\n",
    "    except StopIteration:\n",
    "        break\n",
    "           \n",
    "        \n",
    "print(mylist)\n",
    "len(mylist)\n",
    "\n",
    "for i in len(mylist):\n",
    "    mylist1.append(mylist[i])\n",
    "    \n",
    "print(mylist1)\n",
    "\n",
    "\n",
    "    \n",
    "\n",
    "    "
   ]
  },
  {
   "cell_type": "code",
   "execution_count": 45,
   "id": "14aa7116-a1c3-490c-aba3-d8adc5722149",
   "metadata": {},
   "outputs": [
    {
     "name": "stdin",
     "output_type": "stream",
     "text": [
      "Enter a number:  121\n"
     ]
    },
    {
     "name": "stdout",
     "output_type": "stream",
     "text": [
      "The number is a palindrome.\n"
     ]
    }
   ],
   "source": [
    "def is_palindrome(number):\n",
    "  \"\"\"\n",
    "  This function checks whether a given number is Palindrome or not.\n",
    "\n",
    "  \n",
    "\n",
    "  Returns:\n",
    "    True if the number is Palindrome, False otherwise.\n",
    "  \"\"\"\n",
    "\n",
    "  temp = number\n",
    "  reverse = 0\n",
    "  while temp > 0:\n",
    "    reverse = reverse * 10 + temp % 10\n",
    "    temp //= 10\n",
    "\n",
    "  return number == reverse\n",
    "\n",
    "\n",
    "if __name__ == \"__main__\":\n",
    "  number = int(input(\"Enter a number: \"))\n",
    "\n",
    "  if is_palindrome(number):\n",
    "    print(\"The number is a palindrome.\")\n",
    "  else:\n",
    "    print(\"The number is not a palindrome.\")"
   ]
  },
  {
   "cell_type": "markdown",
   "id": "7b61ddd8-952a-4a88-bc72-25c2c7176e06",
   "metadata": {},
   "source": [
    "Write a code to print odd numbers from 1 to 100 using list comprehension.\n",
    "newlist = [expression for item in iterable if condition == True]\n"
   ]
  },
  {
   "cell_type": "code",
   "execution_count": 52,
   "id": "d756c38a-360f-45a1-b508-719b61106c38",
   "metadata": {},
   "outputs": [
    {
     "name": "stdout",
     "output_type": "stream",
     "text": [
      "[1, 3, 5, 7, 9, 11, 13, 15, 17, 19, 21, 23, 25, 27, 29, 31, 33, 35, 37, 39, 41, 43, 45, 47, 49, 51, 53, 55, 57, 59, 61, 63, 65, 67, 69, 71, 73, 75, 77, 79, 81, 83, 85, 87, 89, 91, 93, 95, 97, 99]\n"
     ]
    }
   ],
   "source": [
    "numbers = list(range(1, 101))\n",
    "newlist = [x for x in numbers if (x % 2) !=0]\n",
    "\n",
    "print(newlist)"
   ]
  },
  {
   "cell_type": "code",
   "execution_count": null,
   "id": "435479c5-2447-4f16-a8f5-ed461b718186",
   "metadata": {},
   "outputs": [],
   "source": []
  }
 ],
 "metadata": {
  "kernelspec": {
   "display_name": "Python 3 (ipykernel)",
   "language": "python",
   "name": "python3"
  },
  "language_info": {
   "codemirror_mode": {
    "name": "ipython",
    "version": 3
   },
   "file_extension": ".py",
   "mimetype": "text/x-python",
   "name": "python",
   "nbconvert_exporter": "python",
   "pygments_lexer": "ipython3",
   "version": "3.10.8"
  }
 },
 "nbformat": 4,
 "nbformat_minor": 5
}
