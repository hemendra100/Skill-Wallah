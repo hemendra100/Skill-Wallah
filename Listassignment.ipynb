{
 "cells": [
  {
   "cell_type": "code",
   "execution_count": 1,
   "id": "fabf2aa5-f70d-4473-875c-6ed668bbdcdd",
   "metadata": {},
   "outputs": [
    {
     "data": {
      "text/plain": [
       "[1, 2, 3, 'a', 5]"
      ]
     },
     "execution_count": 1,
     "metadata": {},
     "output_type": "execute_result"
    }
   ],
   "source": [
    "#Q1. What is the syntax for adding an element to a list in Python?\n",
    "\n",
    "list1 =[1,2,3,\"a\"]\n",
    "list1.append(5)\n",
    "list1"
   ]
  },
  {
   "cell_type": "code",
   "execution_count": 2,
   "id": "488d2a6e-28f6-434d-997f-8fcc707aa210",
   "metadata": {},
   "outputs": [
    {
     "data": {
      "text/plain": [
       "5"
      ]
     },
     "execution_count": 2,
     "metadata": {},
     "output_type": "execute_result"
    }
   ],
   "source": [
    "#Q2. What is the difference between remove() and pop() functions in Python?\n",
    "#The pop() function removes the last element or the element based on the index given. remove() function removes the first occurrence of the specified element\n",
    "\n",
    "list1.pop()"
   ]
  },
  {
   "cell_type": "code",
   "execution_count": 4,
   "id": "113ea2ca-3071-44b3-83fe-3a13c0de6f40",
   "metadata": {},
   "outputs": [],
   "source": [
    "list1.append(1)"
   ]
  },
  {
   "cell_type": "code",
   "execution_count": 5,
   "id": "303bed47-96a2-4e9e-b2e7-1c2f922d94a5",
   "metadata": {},
   "outputs": [
    {
     "data": {
      "text/plain": [
       "[1, 2, 3, 'a', 1]"
      ]
     },
     "execution_count": 5,
     "metadata": {},
     "output_type": "execute_result"
    }
   ],
   "source": [
    "list1"
   ]
  },
  {
   "cell_type": "code",
   "execution_count": 6,
   "id": "ee117f98-1337-4983-8f2b-81b389cbed28",
   "metadata": {},
   "outputs": [],
   "source": [
    "list1.remove(1)\n"
   ]
  },
  {
   "cell_type": "code",
   "execution_count": 7,
   "id": "10d1beec-b6ab-4574-a42d-d6d04a078be9",
   "metadata": {},
   "outputs": [
    {
     "data": {
      "text/plain": [
       "[2, 3, 'a', 1]"
      ]
     },
     "execution_count": 7,
     "metadata": {},
     "output_type": "execute_result"
    }
   ],
   "source": [
    "list1"
   ]
  },
  {
   "cell_type": "code",
   "execution_count": 10,
   "id": "62a12603-aa16-46a3-884e-37d430f232ca",
   "metadata": {},
   "outputs": [],
   "source": [
    "#Write a Python code to sort a list in descending order.\n",
    "\n",
    "list2=[12,45,56,21,67,21]\n",
    "list2.sort(reverse=True)"
   ]
  },
  {
   "cell_type": "code",
   "execution_count": 11,
   "id": "a7f5ef9f-26a4-427c-a68d-1c7cc07e1056",
   "metadata": {},
   "outputs": [
    {
     "data": {
      "text/plain": [
       "[67, 56, 45, 21, 21, 12]"
      ]
     },
     "execution_count": 11,
     "metadata": {},
     "output_type": "execute_result"
    }
   ],
   "source": [
    "list2"
   ]
  },
  {
   "cell_type": "code",
   "execution_count": 28,
   "id": "079fdeff-b9f7-48de-a172-f45e03ae0632",
   "metadata": {},
   "outputs": [
    {
     "name": "stdout",
     "output_type": "stream",
     "text": [
      "3\n"
     ]
    }
   ],
   "source": [
    "#Q4. Write a Python code to count the number of occurrences of an element in a list.\n",
    "\n",
    "list3=[1,2,1,3,1,4]\n",
    "c=0\n",
    "\n",
    "for i in list3:\n",
    "   \n",
    "    if i == 1:\n",
    "        c=c+1\n",
    "        \n",
    "print(c)\n",
    "        \n",
    "    \n"
   ]
  },
  {
   "cell_type": "code",
   "execution_count": 39,
   "id": "3db2a891-71f4-416a-9d8b-e9cf3c751900",
   "metadata": {},
   "outputs": [
    {
     "name": "stdout",
     "output_type": "stream",
     "text": [
      "List before reverse :  [1, 2, 3, 4, 5]\n",
      "List after reverse :  None\n"
     ]
    }
   ],
   "source": [
    "#Write a Python code to reverse a list.\n",
    "list = [1,2,3,4,5]\n",
    "print(\"List before reverse : \",list)\n",
    "list.reverse()\n",
    "print(\"List after reverse : \",list.reverse())\n",
    "\n",
    "\n"
   ]
  },
  {
   "cell_type": "code",
   "execution_count": 33,
   "id": "1bcffe19-f703-4431-ace7-571b7a11cd25",
   "metadata": {},
   "outputs": [],
   "source": [
    "l5"
   ]
  },
  {
   "cell_type": "code",
   "execution_count": null,
   "id": "2139f3fd-f831-40ce-b89f-6225494a2edf",
   "metadata": {},
   "outputs": [],
   "source": []
  }
 ],
 "metadata": {
  "kernelspec": {
   "display_name": "Python 3 (ipykernel)",
   "language": "python",
   "name": "python3"
  },
  "language_info": {
   "codemirror_mode": {
    "name": "ipython",
    "version": 3
   },
   "file_extension": ".py",
   "mimetype": "text/x-python",
   "name": "python",
   "nbconvert_exporter": "python",
   "pygments_lexer": "ipython3",
   "version": "3.10.8"
  }
 },
 "nbformat": 4,
 "nbformat_minor": 5
}
