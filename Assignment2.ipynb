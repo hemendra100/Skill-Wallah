{
 "cells": [
  {
   "cell_type": "code",
   "execution_count": 1,
   "id": "dd2cd504-3c9c-4fc4-a2cd-288a352f0df4",
   "metadata": {},
   "outputs": [],
   "source": [
    "#Q1. How do you comment code in Python? What are the different types of comments?"
   ]
  },
  {
   "cell_type": "code",
   "execution_count": 2,
   "id": "e743fc33-d12d-498f-8d16-1c05858ea5e9",
   "metadata": {},
   "outputs": [
    {
     "data": {
      "text/plain": [
       "' Multi Line Comment can be done by '"
      ]
     },
     "execution_count": 2,
     "metadata": {},
     "output_type": "execute_result"
    }
   ],
   "source": [
    "# # By putting # sign\n",
    "# #Single-Line Comments\n",
    "# #Multi-Line Comments\n",
    "# \"\"\" Multi Line Comment can be done by \"\"\""
   ]
  },
  {
   "cell_type": "code",
   "execution_count": null,
   "id": "739c08a6-1367-4fad-9a78-a0c13913cf71",
   "metadata": {},
   "outputs": [],
   "source": [
    "#Q2. What are variables in Python? How do you declare and assign values to variables?\n",
    "\n",
    "# #In Python, variables are used to store data or values. \n",
    "# They act as placeholders that can be assigned different values during the execution of a program.\n",
    "# Variables have names, which are used to reference the stored values.\n",
    "#To declare and assign values to variables in Python, you simply need to use the assignment operator (=)."
   ]
  },
  {
   "cell_type": "code",
   "execution_count": 3,
   "id": "e7bc484f-9c83-4676-bad2-7afbed1df3e5",
   "metadata": {},
   "outputs": [
    {
     "name": "stdout",
     "output_type": "stream",
     "text": [
      "45\n"
     ]
    }
   ],
   "source": [
    "age= 45\n",
    "print(age)"
   ]
  },
  {
   "cell_type": "code",
   "execution_count": 4,
   "id": "3d92d046-ad2f-4ef8-99e9-098394ae63a0",
   "metadata": {},
   "outputs": [
    {
     "name": "stdout",
     "output_type": "stream",
     "text": [
      "10\n"
     ]
    }
   ],
   "source": [
    "#Q3. How do you convert one data type to another in Python?\n",
    "#convert one data type to another using type conversion functions. \n",
    "# Converting to integer\n",
    "num_str = \"10\"\n",
    "num_int = int(num_str)\n",
    "print(num_int)"
   ]
  },
  {
   "cell_type": "code",
   "execution_count": 5,
   "id": "dbb39f78-8868-4f84-98d4-1ea66d0bd404",
   "metadata": {},
   "outputs": [
    {
     "data": {
      "text/plain": [
       "int"
      ]
     },
     "execution_count": 5,
     "metadata": {},
     "output_type": "execute_result"
    }
   ],
   "source": [
    "type(num_int)"
   ]
  },
  {
   "cell_type": "code",
   "execution_count": 6,
   "id": "ebd0f45c-45ef-4379-bd73-54735b5d488e",
   "metadata": {},
   "outputs": [],
   "source": [
    "#4. How do you write and execute a Python script from the command line?\n",
    "#Writing code in txt file saving as.py extension and opening in command prompt as python *.py"
   ]
  },
  {
   "cell_type": "code",
   "execution_count": 10,
   "id": "3f550401-0511-4c03-b519-bcd9cede91d4",
   "metadata": {},
   "outputs": [
    {
     "data": {
      "text/plain": [
       "[1, 2, 3, 4, 5]"
      ]
     },
     "execution_count": 10,
     "metadata": {},
     "output_type": "execute_result"
    }
   ],
   "source": [
    "#Given a list my_list = [1, 2, 3, 4, 5], write the code to slice the list and obtain the sub-list [2, 3].\n",
    "my_list =[1,2,3,4,5]\n",
    "my_list\n"
   ]
  },
  {
   "cell_type": "code",
   "execution_count": 11,
   "id": "d25a70a2-fafa-4f0a-8daf-1f5839f05d9d",
   "metadata": {},
   "outputs": [
    {
     "data": {
      "text/plain": [
       "[2, 3]"
      ]
     },
     "execution_count": 11,
     "metadata": {},
     "output_type": "execute_result"
    }
   ],
   "source": [
    "my_list[1:3]\n"
   ]
  },
  {
   "cell_type": "code",
   "execution_count": 14,
   "id": "f8d2945d-0f63-46a5-b304-117613caf0aa",
   "metadata": {},
   "outputs": [],
   "source": [
    "sub_list = my_list[1:3]"
   ]
  },
  {
   "cell_type": "code",
   "execution_count": 15,
   "id": "5154ab63-18b6-4ca9-99b6-e02fd9588066",
   "metadata": {},
   "outputs": [
    {
     "data": {
      "text/plain": [
       "[2, 3]"
      ]
     },
     "execution_count": 15,
     "metadata": {},
     "output_type": "execute_result"
    }
   ],
   "source": [
    "sub_list"
   ]
  },
  {
   "cell_type": "markdown",
   "id": "698d7ffd-0235-462d-8dfe-36ad31e220a6",
   "metadata": {},
   "source": [
    "#q.6 What is a complex number in mathematics, and how is it represented in Python?\n",
    "\"\"\"it is written in the form of (x + yj) where x and y are real numbers and j is an imaginary number which is the square root of -1\"\"\""
   ]
  },
  {
   "cell_type": "code",
   "execution_count": 16,
   "id": "b625d44e-4156-496b-9878-dfa3c97c523f",
   "metadata": {},
   "outputs": [],
   "source": [
    "#Q7. What is the correct way to declare a variable named age and assign the value 25 to it?\n",
    "age=25"
   ]
  },
  {
   "cell_type": "code",
   "execution_count": 17,
   "id": "b1d2903d-f49d-465c-b9e9-741e522a403a",
   "metadata": {},
   "outputs": [
    {
     "data": {
      "text/plain": [
       "float"
      ]
     },
     "execution_count": 17,
     "metadata": {},
     "output_type": "execute_result"
    }
   ],
   "source": [
    "# Q8. Declare a variable named price and assign the value 9.99 to it. What data type does this variable\n",
    "# belong to?\n",
    "\n",
    "price =9.99\n",
    "type(price)"
   ]
  },
  {
   "cell_type": "code",
   "execution_count": 18,
   "id": "13cb382f-9e48-4303-8ebf-ae1b488e99c9",
   "metadata": {},
   "outputs": [
    {
     "name": "stdout",
     "output_type": "stream",
     "text": [
      "Hemendra\n"
     ]
    }
   ],
   "source": [
    "# Q9. Create a variable named name and assign your full name to it as a string. How would you print the\n",
    "# value of this variable?\n",
    "name =\"Hemendra\"\n",
    "print(name)"
   ]
  },
  {
   "cell_type": "code",
   "execution_count": 19,
   "id": "a46d6eca-0ddd-49a0-bfdc-c382fa05bf74",
   "metadata": {},
   "outputs": [
    {
     "data": {
      "text/plain": [
       "'World'"
      ]
     },
     "execution_count": 19,
     "metadata": {},
     "output_type": "execute_result"
    }
   ],
   "source": [
    "#Q10. Given the string \"Hello, World!\", extract the substring \"World\".\n",
    "\n",
    "var =\"Hello World\"\n",
    "var[6:11]\n"
   ]
  },
  {
   "cell_type": "code",
   "execution_count": 22,
   "id": "0d0a8420-d5f5-49f4-ac5d-cf1648e9cbf2",
   "metadata": {},
   "outputs": [
    {
     "data": {
      "text/plain": [
       "bool"
      ]
     },
     "execution_count": 22,
     "metadata": {},
     "output_type": "execute_result"
    }
   ],
   "source": [
    "# Q11. Create a variable named \"is_student\" and assign it a boolean value indicating whether you are\n",
    "# currently a student or not.\n",
    "\n",
    "is_student = True\n",
    "type(is_student)"
   ]
  },
  {
   "cell_type": "code",
   "execution_count": null,
   "id": "3b94ef4a-8f6f-4bab-86c9-de05bf52283b",
   "metadata": {},
   "outputs": [],
   "source": []
  },
  {
   "cell_type": "code",
   "execution_count": null,
   "id": "c00201ec-965b-4229-9202-df73633e4159",
   "metadata": {},
   "outputs": [],
   "source": []
  }
 ],
 "metadata": {
  "kernelspec": {
   "display_name": "Python 3 (ipykernel)",
   "language": "python",
   "name": "python3"
  },
  "language_info": {
   "codemirror_mode": {
    "name": "ipython",
    "version": 3
   },
   "file_extension": ".py",
   "mimetype": "text/x-python",
   "name": "python",
   "nbconvert_exporter": "python",
   "pygments_lexer": "ipython3",
   "version": "3.10.8"
  }
 },
 "nbformat": 4,
 "nbformat_minor": 5
}
