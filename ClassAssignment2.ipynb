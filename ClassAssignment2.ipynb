{
 "cells": [
  {
   "cell_type": "markdown",
   "id": "3fad6b8b-384e-41d6-9690-30962cd16382",
   "metadata": {},
   "source": [
    "What is abstraction in Oops Explain with example"
   ]
  },
  {
   "cell_type": "markdown",
   "id": "f186eaaf-319a-4e06-a3aa-65a55d6ecf30",
   "metadata": {},
   "source": [
    "Abstraction in python is defined as a process of handling complexity by hiding unnecessary information from the user.Abstraction provides a programmer to hide all the irrelevant data/process of an application in order to reduce complexity and increase the efficiency of the program"
   ]
  },
  {
   "cell_type": "code",
   "execution_count": 10,
   "id": "91bcb91e-a525-4068-a828-85f36f57831a",
   "metadata": {},
   "outputs": [
    {
     "name": "stdout",
     "output_type": "stream",
     "text": [
      "Bobby\n",
      "Woof!\n",
      "Kitty\n",
      "Meow!\n"
     ]
    }
   ],
   "source": [
    "from abc import ABC, abstractmethod\n",
    "\n",
    "class Animal(ABC):\n",
    "    def __init__(self, name):\n",
    "        self.name = name\n",
    "\n",
    "    @abstractmethod\n",
    "    def sound(self):\n",
    "        pass\n",
    "\n",
    "class Dog(Animal):\n",
    "    def sound(self):\n",
    "        return \"Woof!\"\n",
    "\n",
    "class Cat(Animal):\n",
    "    def sound(self):\n",
    "        return \"Meow!\"\n",
    "\n",
    "\n",
    "\n",
    "dog = Dog(\"Bobby\")\n",
    "cat = Cat(\"Kitty\")\n",
    "\n",
    "print(dog.name)\n",
    "print(dog.sound())\n",
    "\n",
    "print(cat.name)\n",
    "print(cat.sound())"
   ]
  },
  {
   "cell_type": "code",
   "execution_count": 4,
   "id": "a704760a-2350-498d-957e-14485b4707db",
   "metadata": {},
   "outputs": [
    {
     "name": "stdout",
     "output_type": "stream",
     "text": [
      "25\n",
      "20\n",
      "32\n",
      "24\n"
     ]
    }
   ],
   "source": [
    "from abc import ABC, abstractmethod\n",
    "\n",
    "class Shape(ABC):\n",
    "    def __init__(self, length,breadth):\n",
    "        self.length = length\n",
    "        self.breadth = breadth\n",
    "\n",
    "    @abstractmethod\n",
    "    def area(self):\n",
    "        pass\n",
    "    \n",
    "    @abstractmethod\n",
    "    def parameter(self):\n",
    "        pass\n",
    "\n",
    "class square(Shape):\n",
    "    def area(self):\n",
    "        return self.length*self.length\n",
    "    def parameter(self):\n",
    "        return 4*self.length\n",
    "\n",
    "class rectangle(Shape):\n",
    "    def area(self):\n",
    "        return self.length*self.breadth\n",
    "    def parameter(self):\n",
    "        return 2*(self.length+self.breadth)\n",
    "\n",
    "\n",
    "\n",
    "\n",
    "square = square(5,5)\n",
    "rectangle= rectangle(8,4)\n",
    "\n",
    "print(square.area())\n",
    "print(square.parameter())\n",
    "print(rectangle.area())\n",
    "print(rectangle.parameter())\n",
    "\n"
   ]
  },
  {
   "cell_type": "markdown",
   "id": "6abab90d-9c83-40df-b568-3e48fbc12e0b",
   "metadata": {},
   "source": [
    "What is the abc module in python?Why is it used?"
   ]
  },
  {
   "cell_type": "markdown",
   "id": "01279df3-38b7-4df2-9aa5-b08087b8c9c3",
   "metadata": {},
   "source": [
    "The main goal of the abstract base class is to provide a standardized way to test whether an object adheres to a given specification. It can also prevent any attempt to instantiate a subclass that doesn’t override a particular method in the superclass. And finally, using an abstract class, a class can derive identity from another class without any object inheritance.The main goal of the abstract base class is to provide a standardized way to test whether an object adheres to a given specification. It can also prevent any attempt to instantiate a subclass that doesn’t override a particular method in the superclass."
   ]
  },
  {
   "cell_type": "code",
   "execution_count": null,
   "id": "8080572d-7bd7-436c-ad96-31fb91e31f3b",
   "metadata": {},
   "outputs": [],
   "source": [
    "How can we achieve data abstraction?"
   ]
  },
  {
   "cell_type": "markdown",
   "id": "f99060d7-4fea-443f-af99-2bfcfca3872e",
   "metadata": {},
   "source": [
    "  In Python, abstraction can be achieved by having/using abstract classes and methods in our programs.To use Python Abstract Base Classes (ABCs), one needs to import ABCMeta and abstractmethod from the abc module."
   ]
  },
  {
   "cell_type": "markdown",
   "id": "5f27fec3-42d5-4ac2-8b51-940e8630a7d7",
   "metadata": {},
   "source": [
    "Can we create an instance of abstract class. Explain your answer"
   ]
  },
  {
   "cell_type": "markdown",
   "id": "8bbede20-10ad-4197-b9de-7a71dfbbfb2e",
   "metadata": {},
   "source": [
    "Abstract classes are not complete, as they may have some methods that are not defined. So we cannot create an instance or object of an abstract class in Python."
   ]
  }
 ],
 "metadata": {
  "kernelspec": {
   "display_name": "Python 3 (ipykernel)",
   "language": "python",
   "name": "python3"
  },
  "language_info": {
   "codemirror_mode": {
    "name": "ipython",
    "version": 3
   },
   "file_extension": ".py",
   "mimetype": "text/x-python",
   "name": "python",
   "nbconvert_exporter": "python",
   "pygments_lexer": "ipython3",
   "version": "3.10.8"
  }
 },
 "nbformat": 4,
 "nbformat_minor": 5
}
