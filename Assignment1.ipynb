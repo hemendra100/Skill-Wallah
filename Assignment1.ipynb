{
 "cells": [
  {
   "cell_type": "code",
   "execution_count": 4,
   "id": "6ca69024-479b-4633-9cc7-87673dd65c9b",
   "metadata": {},
   "outputs": [],
   "source": [
    "# \"Q1. Create one variable containing following type of data:\n",
    "#(i) string\n",
    "#(ii) list\n",
    "#(iii) float\n",
    "#(iv) tuple "
   ]
  },
  {
   "cell_type": "code",
   "execution_count": 5,
   "id": "ea9d6fe1-364a-4f54-95dd-44a2b4f2efb6",
   "metadata": {},
   "outputs": [],
   "source": [
    "h=\"hemendra\"\n"
   ]
  },
  {
   "cell_type": "code",
   "execution_count": 6,
   "id": "b74ab606-e202-4204-8835-780b98afd902",
   "metadata": {},
   "outputs": [
    {
     "data": {
      "text/plain": [
       "'hemendra'"
      ]
     },
     "execution_count": 6,
     "metadata": {},
     "output_type": "execute_result"
    }
   ],
   "source": [
    "h"
   ]
  },
  {
   "cell_type": "code",
   "execution_count": 7,
   "id": "c2ed0557-7506-4e7d-b561-f41e4fcb9a75",
   "metadata": {},
   "outputs": [
    {
     "data": {
      "text/plain": [
       "str"
      ]
     },
     "execution_count": 7,
     "metadata": {},
     "output_type": "execute_result"
    }
   ],
   "source": [
    "type(h)"
   ]
  },
  {
   "cell_type": "code",
   "execution_count": 8,
   "id": "3b1b7b5c-5c5a-43f5-8ca3-0b9f7d18c1ea",
   "metadata": {},
   "outputs": [],
   "source": [
    "l1=[1,2,3,'hemendra']"
   ]
  },
  {
   "cell_type": "code",
   "execution_count": 9,
   "id": "21f82ca0-7001-48fd-9207-dfe429c5bdd7",
   "metadata": {},
   "outputs": [
    {
     "data": {
      "text/plain": [
       "\"[1, 2, 3, 'hemendra']\""
      ]
     },
     "execution_count": 9,
     "metadata": {},
     "output_type": "execute_result"
    }
   ],
   "source": [
    "str(l1)"
   ]
  },
  {
   "cell_type": "code",
   "execution_count": 10,
   "id": "14f2e88c-98b1-43f9-88b7-0d3edd43d55f",
   "metadata": {},
   "outputs": [],
   "source": [
    "f1=2.31"
   ]
  },
  {
   "cell_type": "code",
   "execution_count": 11,
   "id": "b83fcca8-f5b5-4991-93ef-080e5a744e10",
   "metadata": {},
   "outputs": [
    {
     "data": {
      "text/plain": [
       "float"
      ]
     },
     "execution_count": 11,
     "metadata": {},
     "output_type": "execute_result"
    }
   ],
   "source": [
    "type(f1)"
   ]
  },
  {
   "cell_type": "code",
   "execution_count": 12,
   "id": "3da6e6e2-871b-425d-b2d7-ce15b9ae06c2",
   "metadata": {},
   "outputs": [],
   "source": [
    "t1=(12,23,'raj')"
   ]
  },
  {
   "cell_type": "code",
   "execution_count": 13,
   "id": "2f5bd1c8-0d23-4023-91de-7912b6e6c01f",
   "metadata": {},
   "outputs": [
    {
     "data": {
      "text/plain": [
       "tuple"
      ]
     },
     "execution_count": 13,
     "metadata": {},
     "output_type": "execute_result"
    }
   ],
   "source": [
    "type(t1)"
   ]
  },
  {
   "cell_type": "code",
   "execution_count": 22,
   "id": "beed9512-a853-44f2-a921-1e679c99b174",
   "metadata": {},
   "outputs": [],
   "source": [
    "var1 = ' '\n",
    "var2 = '[ DS , ML , Python]'\n",
    "var3 = ['DS','ML','Python']\n",
    "var4 = 1."
   ]
  },
  {
   "cell_type": "code",
   "execution_count": 25,
   "id": "424c09de-632c-4804-8b21-03901f27ea85",
   "metadata": {},
   "outputs": [
    {
     "data": {
      "text/plain": [
       "str"
      ]
     },
     "execution_count": 25,
     "metadata": {},
     "output_type": "execute_result"
    }
   ],
   "source": [
    "type(var1)\n"
   ]
  },
  {
   "cell_type": "code",
   "execution_count": 28,
   "id": "052d79f0-8ad2-4c68-ae82-1ecc3c7220aa",
   "metadata": {},
   "outputs": [
    {
     "data": {
      "text/plain": [
       "list"
      ]
     },
     "execution_count": 28,
     "metadata": {},
     "output_type": "execute_result"
    }
   ],
   "source": [
    "\n",
    "type(var3)\n"
   ]
  },
  {
   "cell_type": "code",
   "execution_count": 26,
   "id": "9fe6ab9a-50a6-4e48-9cb2-c0b2d45e41a1",
   "metadata": {},
   "outputs": [
    {
     "data": {
      "text/plain": [
       "str"
      ]
     },
     "execution_count": 26,
     "metadata": {},
     "output_type": "execute_result"
    }
   ],
   "source": [
    "type(var2)"
   ]
  },
  {
   "cell_type": "code",
   "execution_count": 27,
   "id": "95b0c637-1a99-4f50-afd9-1154f3af9ca0",
   "metadata": {},
   "outputs": [
    {
     "data": {
      "text/plain": [
       "float"
      ]
     },
     "execution_count": 27,
     "metadata": {},
     "output_type": "execute_result"
    }
   ],
   "source": [
    "type(var4)"
   ]
  },
  {
   "cell_type": "code",
   "execution_count": 29,
   "id": "40019401-01d8-4f55-a4cb-b9bf0ebbcf61",
   "metadata": {},
   "outputs": [],
   "source": [
    "a=15\n",
    "b=25\n"
   ]
  },
  {
   "cell_type": "code",
   "execution_count": 30,
   "id": "80175aba-bd70-4ab3-9c81-616f47c49d4b",
   "metadata": {},
   "outputs": [
    {
     "data": {
      "text/plain": [
       "0.6"
      ]
     },
     "execution_count": 30,
     "metadata": {},
     "output_type": "execute_result"
    }
   ],
   "source": [
    "a/b"
   ]
  },
  {
   "cell_type": "code",
   "execution_count": 31,
   "id": "ec048983-6640-4a16-a684-7e90e021e68d",
   "metadata": {},
   "outputs": [
    {
     "data": {
      "text/plain": [
       "15"
      ]
     },
     "execution_count": 31,
     "metadata": {},
     "output_type": "execute_result"
    }
   ],
   "source": [
    "a%b"
   ]
  },
  {
   "cell_type": "code",
   "execution_count": 32,
   "id": "1d38bfd6-710c-4215-b7b3-71d5e87071ee",
   "metadata": {},
   "outputs": [
    {
     "data": {
      "text/plain": [
       "0"
      ]
     },
     "execution_count": 32,
     "metadata": {},
     "output_type": "execute_result"
    }
   ],
   "source": [
    "a//b"
   ]
  },
  {
   "cell_type": "code",
   "execution_count": 33,
   "id": "91d0898a-62d3-456c-a8d6-9bd47f362ad1",
   "metadata": {},
   "outputs": [
    {
     "data": {
      "text/plain": [
       "225"
      ]
     },
     "execution_count": 33,
     "metadata": {},
     "output_type": "execute_result"
    }
   ],
   "source": [
    "a**2"
   ]
  },
  {
   "cell_type": "code",
   "execution_count": 34,
   "id": "0459a40c-6986-44fa-98e5-d73211748721",
   "metadata": {},
   "outputs": [],
   "source": [
    "# Q4. Create a list of length 10 of your choice containing multiple types of data. Using for loop print the\n",
    "# element and its data type."
   ]
  },
  {
   "cell_type": "code",
   "execution_count": 38,
   "id": "71fcfcc1-ca25-4502-bd60-f04f0a6f121f",
   "metadata": {},
   "outputs": [],
   "source": [
    "l2=[1,2,3,\"hemu\",2.34,True,3,\"raj\",100,12]"
   ]
  },
  {
   "cell_type": "code",
   "execution_count": 40,
   "id": "8283f613-44d4-4a3f-882a-eea9592514cf",
   "metadata": {},
   "outputs": [
    {
     "name": "stdout",
     "output_type": "stream",
     "text": [
      "<class 'int'>\n",
      "<class 'int'>\n",
      "<class 'int'>\n",
      "<class 'str'>\n",
      "<class 'float'>\n",
      "<class 'bool'>\n",
      "<class 'int'>\n",
      "<class 'str'>\n",
      "<class 'int'>\n",
      "<class 'int'>\n"
     ]
    }
   ],
   "source": [
    "for i in l2:\n",
    "    print (type(i))"
   ]
  },
  {
   "cell_type": "code",
   "execution_count": null,
   "id": "dca79010-75fe-411f-9af6-6cf784cd23dd",
   "metadata": {},
   "outputs": [],
   "source": [
    "#Q5. Using a while loop, verify if the number A is purely divisible by number B and if so then how many\n",
    "# times it can be divisible."
   ]
  },
  {
   "cell_type": "code",
   "execution_count": 47,
   "id": "b6e125f1-0b98-46c8-8001-c160490f265d",
   "metadata": {},
   "outputs": [
    {
     "name": "stdin",
     "output_type": "stream",
     "text": [
      " Number 1 50\n",
      "Number 2 10\n"
     ]
    }
   ],
   "source": [
    "n1= int(input(\" Number 1\"))\n",
    "n2= int(input(\"Number 2\"))"
   ]
  },
  {
   "cell_type": "code",
   "execution_count": 43,
   "id": "6997cb86-9b54-479a-b508-62ac60113c83",
   "metadata": {},
   "outputs": [
    {
     "data": {
      "text/plain": [
       "12"
      ]
     },
     "execution_count": 43,
     "metadata": {},
     "output_type": "execute_result"
    }
   ],
   "source": [
    "n1\n"
   ]
  },
  {
   "cell_type": "code",
   "execution_count": 48,
   "id": "26685923-9f7d-4083-9b2e-f27e6321374e",
   "metadata": {},
   "outputs": [
    {
     "name": "stdout",
     "output_type": "stream",
     "text": [
      "5.0 is divisible by 10 1 times.\n"
     ]
    }
   ],
   "source": [
    "c=0\n",
    "while n1 % n2 ==0:\n",
    "    c=c+1\n",
    "    n1 /= n2  \n",
    "\n",
    "if c > 0:\n",
    "    print(f\"{n1} is divisible by {n2} {c} times.\")\n",
    "else:\n",
    "    print(f\"{n1} is not divisible by {n2}.\")\n",
    "\n",
    "\n",
    "\n"
   ]
  },
  {
   "cell_type": "code",
   "execution_count": 51,
   "id": "b6517795-0af4-4f07-840c-58cba380837e",
   "metadata": {},
   "outputs": [],
   "source": [
    "l2= range(1,26)"
   ]
  },
  {
   "cell_type": "code",
   "execution_count": 50,
   "id": "c1f14d1a-2117-4b0d-b39e-64f137733e48",
   "metadata": {},
   "outputs": [
    {
     "ename": "TypeError",
     "evalue": "'type' object is not subscriptable",
     "output_type": "error",
     "traceback": [
      "\u001b[0;31m---------------------------------------------------------------------------\u001b[0m",
      "\u001b[0;31mTypeError\u001b[0m                                 Traceback (most recent call last)",
      "Cell \u001b[0;32mIn[50], line 1\u001b[0m\n\u001b[0;32m----> 1\u001b[0m l2 \u001b[38;5;241m=\u001b[39m \u001b[38;5;28;43mrange\u001b[39;49m\u001b[43m[\u001b[49m\u001b[38;5;241;43m1\u001b[39;49m\u001b[43m:\u001b[49m\u001b[38;5;241;43m26\u001b[39;49m\u001b[43m]\u001b[49m\n",
      "\u001b[0;31mTypeError\u001b[0m: 'type' object is not subscriptable"
     ]
    }
   ],
   "source": [
    "l2 = range[1:26]"
   ]
  },
  {
   "cell_type": "code",
   "execution_count": 52,
   "id": "5aa5d5f5-7cb7-44bf-9c4b-831e2c5e1eed",
   "metadata": {},
   "outputs": [
    {
     "name": "stdout",
     "output_type": "stream",
     "text": [
      "3\n",
      "6\n",
      "9\n",
      "12\n",
      "15\n",
      "18\n",
      "21\n",
      "24\n"
     ]
    }
   ],
   "source": [
    "for i in l2:\n",
    "    if i%3==0:\n",
    "        print(i)"
   ]
  },
  {
   "cell_type": "code",
   "execution_count": 54,
   "id": "3f856a81-a49b-475d-92fd-a6d69727cc3e",
   "metadata": {},
   "outputs": [],
   "source": [
    "l5 = [1,2,\"hemu\"]\n",
    "t5= (\"a\",\"b\",\"c\")"
   ]
  },
  {
   "cell_type": "code",
   "execution_count": 55,
   "id": "1eb79a96-b89f-4914-a5e7-5697d2e0aca0",
   "metadata": {},
   "outputs": [],
   "source": [
    "l5[2]=\"ajay\""
   ]
  },
  {
   "cell_type": "code",
   "execution_count": 56,
   "id": "01791aa8-404a-452b-990d-f20896db2aff",
   "metadata": {},
   "outputs": [
    {
     "data": {
      "text/plain": [
       "[1, 2, 'ajay']"
      ]
     },
     "execution_count": 56,
     "metadata": {},
     "output_type": "execute_result"
    }
   ],
   "source": [
    "l5"
   ]
  },
  {
   "cell_type": "code",
   "execution_count": 57,
   "id": "ce81e2a7-1302-47f3-bf91-259dfffc3128",
   "metadata": {},
   "outputs": [
    {
     "data": {
      "text/plain": [
       "'a'"
      ]
     },
     "execution_count": 57,
     "metadata": {},
     "output_type": "execute_result"
    }
   ],
   "source": [
    "t5[0]"
   ]
  },
  {
   "cell_type": "code",
   "execution_count": 58,
   "id": "d21f9a43-b664-4937-8f35-a0394233f5a3",
   "metadata": {},
   "outputs": [
    {
     "ename": "TypeError",
     "evalue": "'tuple' object does not support item assignment",
     "output_type": "error",
     "traceback": [
      "\u001b[0;31m---------------------------------------------------------------------------\u001b[0m",
      "\u001b[0;31mTypeError\u001b[0m                                 Traceback (most recent call last)",
      "Cell \u001b[0;32mIn[58], line 1\u001b[0m\n\u001b[0;32m----> 1\u001b[0m \u001b[43mt5\u001b[49m\u001b[43m[\u001b[49m\u001b[38;5;241;43m0\u001b[39;49m\u001b[43m]\u001b[49m\u001b[38;5;241m=\u001b[39m\u001b[38;5;241m100\u001b[39m\n",
      "\u001b[0;31mTypeError\u001b[0m: 'tuple' object does not support item assignment"
     ]
    }
   ],
   "source": [
    "t5[0]=100"
   ]
  },
  {
   "cell_type": "code",
   "execution_count": null,
   "id": "d03f949e-35f9-43e7-ba42-5c21d5855f15",
   "metadata": {},
   "outputs": [],
   "source": []
  }
 ],
 "metadata": {
  "kernelspec": {
   "display_name": "Python 3 (ipykernel)",
   "language": "python",
   "name": "python3"
  },
  "language_info": {
   "codemirror_mode": {
    "name": "ipython",
    "version": 3
   },
   "file_extension": ".py",
   "mimetype": "text/x-python",
   "name": "python",
   "nbconvert_exporter": "python",
   "pygments_lexer": "ipython3",
   "version": "3.10.8"
  }
 },
 "nbformat": 4,
 "nbformat_minor": 5
}
